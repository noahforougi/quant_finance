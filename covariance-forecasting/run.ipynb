{
 "cells": [
  {
   "cell_type": "code",
   "execution_count": null,
   "metadata": {},
   "outputs": [],
   "source": [
    "import pandas as pd\n",
    "import numpy as np\n",
    "import config\n",
    "import covariance\n",
    "import utils\n",
    "import boto3\n",
    "import clean_data\n",
    "\n",
    "from importlib import reload\n",
    "\n",
    "reload(covariance)\n",
    "reload(config)\n",
    "reload(utils)"
   ]
  },
  {
   "cell_type": "code",
   "execution_count": null,
   "metadata": {},
   "outputs": [],
   "source": [
    "file_keys = utils.list_s3_files(config.BUCKET_NAME, \"clean/\")\n",
    "\n",
    "for file_key in file_keys:\n",
    "    df = utils.read_s3_file(file_key).set_index(\"date\")\n",
    "    df.index = pd.to_datetime(df.index)\n",
    "    msfe_list = covariance.forecast_cov_matrices(df, config.DATES[0:2], config.L)\n",
    "    msfe_df = pd.concat(msfe_list)\n",
    "    print(f\"Mean MSFE for {file_key}: {msfe_df.mean()}\")\n",
    "    original_filename = file_key.split(\"/\")[-1]\n",
    "    new_filename = original_filename.replace(\".csv\", \"_forecast_error.csv\")\n",
    "    output_file_key = f\"output/{new_filename}\"\n",
    "    utils.write_s3_file(msfe_df, output_file_key)"
   ]
  },
  {
   "cell_type": "code",
   "execution_count": null,
   "metadata": {},
   "outputs": [],
   "source": [
    "# Parameters\n",
    "dates = pd.date_range(\"19900101\", \"20240401\", freq=\"MS\")\n",
    "L = 120\n",
    "\n",
    "# Load data\n",
    "df = utils.read_s3_file(\"clean/btm.csv\").set_index(\"date\")\n",
    "df.index = pd.to_datetime(df.index)\n",
    "\n",
    "# Forecast covariance matrices\n",
    "msfe_list = covariance.forecast_cov_matrices(df, dates[0:5], L)\n",
    "\n",
    "# # Combine results into a single DataFrame\n",
    "msfe_df = pd.concat(msfe_list)\n",
    "print(msfe_df)\n",
    "\n",
    "# # Print the mean of MSFE values\n",
    "print(msfe_df.mean())"
   ]
  }
 ],
 "metadata": {
  "kernelspec": {
   "display_name": "time-series",
   "language": "python",
   "name": "python3"
  },
  "language_info": {
   "codemirror_mode": {
    "name": "ipython",
    "version": 3
   },
   "file_extension": ".py",
   "mimetype": "text/x-python",
   "name": "python",
   "nbconvert_exporter": "python",
   "pygments_lexer": "ipython3",
   "version": "3.10.14"
  }
 },
 "nbformat": 4,
 "nbformat_minor": 2
}
