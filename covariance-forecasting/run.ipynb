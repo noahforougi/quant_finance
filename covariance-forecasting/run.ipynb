{
 "cells": [
  {
   "cell_type": "code",
   "execution_count": 20,
   "metadata": {},
   "outputs": [
    {
     "data": {
      "text/plain": [
       "<module 'utils' from '/home/sagemaker-user/quant_finance/covariance-forecasting/utils.py'>"
      ]
     },
     "execution_count": 20,
     "metadata": {},
     "output_type": "execute_result"
    }
   ],
   "source": [
    "import pandas as pd\n",
    "import config\n",
    "import utils\n",
    "from importlib import reload\n",
    "\n",
    "reload(config)\n",
    "reload(utils)\n"
   ]
  },
  {
   "cell_type": "code",
   "execution_count": 21,
   "metadata": {},
   "outputs": [],
   "source": [
    "file_keys = utils.list_s3_files(prefix=\"output/\", bucket_name=config.BUCKET_NAME)\n",
    "\n",
    "clean_names = {\"btm\": \"Book-to-Market\", \"industry\": \"Industry\", \"momentum\": \"Momentum\", \"size\": \"Size\",\"size_ltr\": \"Size and Long-Term Reversal\", \"size_str\": \"Size and Short-Term Reversal\", \"sizebtm\": \"Size and Book-to-Market\", \"sizemomentum\": \"Size and Momentum\"}"
   ]
  },
  {
   "cell_type": "code",
   "execution_count": 22,
   "metadata": {},
   "outputs": [],
   "source": [
    "results = list()\n",
    "for k in file_keys:\n",
    "    df = utils.read_s3_file(k).set_index(\"date\")    \n",
    "    df = df.mean()#.loc[\"1995-01-01\":\"2013-12-01\"].mean()\n",
    "    df = pd.DataFrame(df).transpose()\n",
    "    k_clean = k.replace(\"output/\", \"\").replace(\"_forecast_error.csv\", \"\")\n",
    "    df.insert(0, 'file_name', k_clean) \n",
    "    results.append(df)\n",
    "average_forecast_error = pd.concat(results, ignore_index=True).set_index(\"file_name\")\n",
    "average_forecast_error.index = average_forecast_error.index.map(clean_names)\n",
    "average_forecast_error.index.name = \"Portfolios Sorted On\""
   ]
  },
  {
   "cell_type": "code",
   "execution_count": 23,
   "metadata": {},
   "outputs": [
    {
     "data": {
      "text/html": [
       "<div>\n",
       "<style scoped>\n",
       "    .dataframe tbody tr th:only-of-type {\n",
       "        vertical-align: middle;\n",
       "    }\n",
       "\n",
       "    .dataframe tbody tr th {\n",
       "        vertical-align: top;\n",
       "    }\n",
       "\n",
       "    .dataframe thead th {\n",
       "        text-align: right;\n",
       "    }\n",
       "</style>\n",
       "<table border=\"1\" class=\"dataframe\">\n",
       "  <thead>\n",
       "    <tr style=\"text-align: right;\">\n",
       "      <th></th>\n",
       "      <th>Rolling Average</th>\n",
       "      <th>LW Shrunk</th>\n",
       "      <th>EWMA</th>\n",
       "      <th>DCC-GARCH</th>\n",
       "      <th>GO-GARCH</th>\n",
       "    </tr>\n",
       "    <tr>\n",
       "      <th>Portfolios Sorted On</th>\n",
       "      <th></th>\n",
       "      <th></th>\n",
       "      <th></th>\n",
       "      <th></th>\n",
       "      <th></th>\n",
       "    </tr>\n",
       "  </thead>\n",
       "  <tbody>\n",
       "    <tr>\n",
       "      <th>Book-to-Market</th>\n",
       "      <td>0.005530</td>\n",
       "      <td>0.005528</td>\n",
       "      <td>0.004366</td>\n",
       "      <td>0.003359</td>\n",
       "      <td>0.003601</td>\n",
       "    </tr>\n",
       "    <tr>\n",
       "      <th>Industry</th>\n",
       "      <td>0.004054</td>\n",
       "      <td>0.004052</td>\n",
       "      <td>0.003404</td>\n",
       "      <td>0.002757</td>\n",
       "      <td>0.002604</td>\n",
       "    </tr>\n",
       "    <tr>\n",
       "      <th>Momentum</th>\n",
       "      <td>0.006467</td>\n",
       "      <td>0.006465</td>\n",
       "      <td>0.004538</td>\n",
       "      <td>0.003267</td>\n",
       "      <td>0.004091</td>\n",
       "    </tr>\n",
       "    <tr>\n",
       "      <th>Size</th>\n",
       "      <td>0.004293</td>\n",
       "      <td>0.004292</td>\n",
       "      <td>0.003539</td>\n",
       "      <td>0.002797</td>\n",
       "      <td>0.003121</td>\n",
       "    </tr>\n",
       "    <tr>\n",
       "      <th>Size and Long-Term Reversal</th>\n",
       "      <td>0.001789</td>\n",
       "      <td>0.001788</td>\n",
       "      <td>0.001443</td>\n",
       "      <td>0.001115</td>\n",
       "      <td>0.001190</td>\n",
       "    </tr>\n",
       "    <tr>\n",
       "      <th>Size and Short-Term Reversal</th>\n",
       "      <td>0.002839</td>\n",
       "      <td>0.002839</td>\n",
       "      <td>0.002417</td>\n",
       "      <td>0.001909</td>\n",
       "      <td>0.002012</td>\n",
       "    </tr>\n",
       "    <tr>\n",
       "      <th>Size and Book-to-Market</th>\n",
       "      <td>0.002014</td>\n",
       "      <td>0.002014</td>\n",
       "      <td>0.001579</td>\n",
       "      <td>0.001235</td>\n",
       "      <td>0.001221</td>\n",
       "    </tr>\n",
       "    <tr>\n",
       "      <th>Size and Momentum</th>\n",
       "      <td>0.002336</td>\n",
       "      <td>0.002335</td>\n",
       "      <td>0.001733</td>\n",
       "      <td>0.001307</td>\n",
       "      <td>0.001424</td>\n",
       "    </tr>\n",
       "  </tbody>\n",
       "</table>\n",
       "</div>"
      ],
      "text/plain": [
       "                              Rolling Average  LW Shrunk      EWMA  DCC-GARCH  \\\n",
       "Portfolios Sorted On                                                            \n",
       "Book-to-Market                       0.005530   0.005528  0.004366   0.003359   \n",
       "Industry                             0.004054   0.004052  0.003404   0.002757   \n",
       "Momentum                             0.006467   0.006465  0.004538   0.003267   \n",
       "Size                                 0.004293   0.004292  0.003539   0.002797   \n",
       "Size and Long-Term Reversal          0.001789   0.001788  0.001443   0.001115   \n",
       "Size and Short-Term Reversal         0.002839   0.002839  0.002417   0.001909   \n",
       "Size and Book-to-Market              0.002014   0.002014  0.001579   0.001235   \n",
       "Size and Momentum                    0.002336   0.002335  0.001733   0.001307   \n",
       "\n",
       "                              GO-GARCH  \n",
       "Portfolios Sorted On                    \n",
       "Book-to-Market                0.003601  \n",
       "Industry                      0.002604  \n",
       "Momentum                      0.004091  \n",
       "Size                          0.003121  \n",
       "Size and Long-Term Reversal   0.001190  \n",
       "Size and Short-Term Reversal  0.002012  \n",
       "Size and Book-to-Market       0.001221  \n",
       "Size and Momentum             0.001424  "
      ]
     },
     "execution_count": 23,
     "metadata": {},
     "output_type": "execute_result"
    }
   ],
   "source": [
    "average_forecast_error"
   ]
  },
  {
   "cell_type": "code",
   "execution_count": 28,
   "metadata": {},
   "outputs": [
    {
     "data": {
      "text/plain": [
       "<Axes: >"
      ]
     },
     "execution_count": 28,
     "metadata": {},
     "output_type": "execute_result"
    },
    {
     "data": {
      "image/png": "[encoded data removed]",
      "text/plain": [
       "<Figure size 640x480 with 1 Axes>"
      ]
     },
     "metadata": {},
     "output_type": "display_data"
    }
   ],
   "source": [
    "average_forecast_error.mean().plot(kind=\"bar\")"
   ]
  }
 ],
 "metadata": {
  "kernelspec": {
   "display_name": "quant-finance-2Mz7vLQz-py3.10",
   "language": "python",
   "name": "python3"
  },
  "language_info": {
   "codemirror_mode": {
    "name": "ipython",
    "version": 3
   },
   "file_extension": ".py",
   "mimetype": "text/x-python",
   "name": "python",
   "nbconvert_exporter": "python",
   "pygments_lexer": "ipython3",
   "version": "3.10.14"
  }
 },
 "nbformat": 4,
 "nbformat_minor": 2
}
