{
 "cells": [
  {
   "cell_type": "code",
   "execution_count": 1,
   "metadata": {},
   "outputs": [],
   "source": [
    "import pandas as pd \n",
    "import numpy as np\n",
    "from covariance_forecasting import config\n",
    "import covariance\n",
    "import utils"
   ]
  },
  {
   "cell_type": "code",
   "execution_count": null,
   "metadata": {},
   "outputs": [],
   "source": [
    "# Parameters\n",
    "filepath = config.OUTPUT_DIR + \"/btm.csv\"\n",
    "dates = pd.date_range(\"19900101\", \"20240401\", freq=\"MS\")\n",
    "L = 120\n",
    "\n",
    "# Load data\n",
    "df = utils.load_data(filepath)\n",
    "# Forecast covariance matrices\n",
    "msfe_list = covariance.forecast_cov_matrices(df, dates[0:2], L)\n",
    "\n",
    "# # Combine results into a single DataFrame\n",
    "msfe_df = pd.concat(msfe_list)\n",
    "print(msfe_df)\n",
    "\n",
    "# # Print the mean of MSFE values\n",
    "print(msfe_df.mean())"
   ]
  }
 ],
 "metadata": {
  "kernelspec": {
   "display_name": "time-series",
   "language": "python",
   "name": "python3"
  },
  "language_info": {
   "codemirror_mode": {
    "name": "ipython",
    "version": 3
   },
   "file_extension": ".py",
   "mimetype": "text/x-python",
   "name": "python",
   "nbconvert_exporter": "python",
   "pygments_lexer": "ipython3",
   "version": "3.10.10"
  }
 },
 "nbformat": 4,
 "nbformat_minor": 2
}
