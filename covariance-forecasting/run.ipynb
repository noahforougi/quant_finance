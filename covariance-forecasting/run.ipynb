{
 "cells": [
  {
   "cell_type": "code",
   "execution_count": null,
   "metadata": {},
   "outputs": [],
   "source": [
    "# import pandas as pd\n",
    "# import config\n",
    "# import covariance\n",
    "# import utils\n",
    "# from importlib import reload\n",
    "\n",
    "# reload(covariance)\n",
    "# reload(config)\n",
    "# reload(utils)\n",
    "\n",
    "# for file_key in file_keys:\n",
    "#     df = utils.read_s3_file(file_key).set_index(\"date\")\n",
    "#     df.index = pd.to_datetime(df.index)\n",
    "#     msfe_list = covariance.forecast_cov_matrices(df, config.DATES, config.L)\n",
    "#     msfe_df = pd.concat(msfe_list)\n",
    "#     print(f\"Mean MSFE for {file_key}: {msfe_df.mean()}\")\n",
    "#     original_filename = file_key.split(\"/\")[-1]\n",
    "#     new_filename = original_filename.replace(\".csv\", \"_forecast_error.csv\")\n",
    "#     output_file_key = f\"output/{new_filename}\"\n",
    "#     utils.write_s3_file(msfe_df, output_file_key)"
   ]
  },
  {
   "cell_type": "code",
   "execution_count": 9,
   "metadata": {},
   "outputs": [],
   "source": [
    "import sagemaker\n",
    "from sagemaker.processing import ScriptProcessor"
   ]
  },
  {
   "cell_type": "code",
   "execution_count": 10,
   "metadata": {},
   "outputs": [
    {
     "ename": "ValueError",
     "evalue": "An AWS IAM role is required to create a Processing job.",
     "output_type": "error",
     "traceback": [
      "\u001b[0;31m---------------------------------------------------------------------------\u001b[0m",
      "\u001b[0;31mValueError\u001b[0m                                Traceback (most recent call last)",
      "\u001b[1;32m/home/sagemaker-user/quant_finance/covariance-forecasting/run.ipynb Cell 3\u001b[0m line \u001b[0;36m5\n\u001b[1;32m      <a href='vscode-notebook-cell://eqaenm1et4ubidb.studio.us-east-2.sagemaker.aws/home/sagemaker-user/quant_finance/covariance-forecasting/run.ipynb#W6sdnNjb2RlLXJlbW90ZQ%3D%3D?line=1'>2</a>\u001b[0m role \u001b[39m=\u001b[39m sagemaker\u001b[39m.\u001b[39mget_execution_role()\n\u001b[1;32m      <a href='vscode-notebook-cell://eqaenm1et4ubidb.studio.us-east-2.sagemaker.aws/home/sagemaker-user/quant_finance/covariance-forecasting/run.ipynb#W6sdnNjb2RlLXJlbW90ZQ%3D%3D?line=3'>4</a>\u001b[0m \u001b[39m# Define the script processor\u001b[39;00m\n\u001b[0;32m----> <a href='vscode-notebook-cell://eqaenm1et4ubidb.studio.us-east-2.sagemaker.aws/home/sagemaker-user/quant_finance/covariance-forecasting/run.ipynb#W6sdnNjb2RlLXJlbW90ZQ%3D%3D?line=4'>5</a>\u001b[0m script_processor \u001b[39m=\u001b[39m ScriptProcessor(\n\u001b[1;32m      <a href='vscode-notebook-cell://eqaenm1et4ubidb.studio.us-east-2.sagemaker.aws/home/sagemaker-user/quant_finance/covariance-forecasting/run.ipynb#W6sdnNjb2RlLXJlbW90ZQ%3D%3D?line=5'>6</a>\u001b[0m     image_uri\u001b[39m=\u001b[39;49m\u001b[39m'\u001b[39;49m\u001b[39m382416733822.dkr.ecr.us-east-1.amazonaws.com/sagemaker-scikit-learn:0.23-1-cpu-py3\u001b[39;49m\u001b[39m'\u001b[39;49m,  \n\u001b[1;32m      <a href='vscode-notebook-cell://eqaenm1et4ubidb.studio.us-east-2.sagemaker.aws/home/sagemaker-user/quant_finance/covariance-forecasting/run.ipynb#W6sdnNjb2RlLXJlbW90ZQ%3D%3D?line=6'>7</a>\u001b[0m     instance_count\u001b[39m=\u001b[39;49m\u001b[39m1\u001b[39;49m,\n\u001b[1;32m      <a href='vscode-notebook-cell://eqaenm1et4ubidb.studio.us-east-2.sagemaker.aws/home/sagemaker-user/quant_finance/covariance-forecasting/run.ipynb#W6sdnNjb2RlLXJlbW90ZQ%3D%3D?line=7'>8</a>\u001b[0m     instance_type\u001b[39m=\u001b[39;49m\u001b[39m'\u001b[39;49m\u001b[39mml.t3.medium\u001b[39;49m\u001b[39m'\u001b[39;49m\n\u001b[1;32m      <a href='vscode-notebook-cell://eqaenm1et4ubidb.studio.us-east-2.sagemaker.aws/home/sagemaker-user/quant_finance/covariance-forecasting/run.ipynb#W6sdnNjb2RlLXJlbW90ZQ%3D%3D?line=8'>9</a>\u001b[0m )\n\u001b[1;32m     <a href='vscode-notebook-cell://eqaenm1et4ubidb.studio.us-east-2.sagemaker.aws/home/sagemaker-user/quant_finance/covariance-forecasting/run.ipynb#W6sdnNjb2RlLXJlbW90ZQ%3D%3D?line=10'>11</a>\u001b[0m script_processor\u001b[39m.\u001b[39mrun(\n\u001b[1;32m     <a href='vscode-notebook-cell://eqaenm1et4ubidb.studio.us-east-2.sagemaker.aws/home/sagemaker-user/quant_finance/covariance-forecasting/run.ipynb#W6sdnNjb2RlLXJlbW90ZQ%3D%3D?line=11'>12</a>\u001b[0m     code\u001b[39m=\u001b[39m\u001b[39m'\u001b[39m\u001b[39mforecast.py\u001b[39m\u001b[39m'\u001b[39m\n\u001b[1;32m     <a href='vscode-notebook-cell://eqaenm1et4ubidb.studio.us-east-2.sagemaker.aws/home/sagemaker-user/quant_finance/covariance-forecasting/run.ipynb#W6sdnNjb2RlLXJlbW90ZQ%3D%3D?line=12'>13</a>\u001b[0m )\n",
      "File \u001b[0;32m~/.cache/pypoetry/virtualenvs/quant-finance-2Mz7vLQz-py3.10/lib/python3.10/site-packages/sagemaker/processing.py:570\u001b[0m, in \u001b[0;36mScriptProcessor.__init__\u001b[0;34m(self, role, image_uri, command, instance_count, instance_type, volume_size_in_gb, volume_kms_key, output_kms_key, max_runtime_in_seconds, base_job_name, sagemaker_session, env, tags, network_config)\u001b[0m\n\u001b[1;32m    567\u001b[0m \u001b[39mself\u001b[39m\u001b[39m.\u001b[39m_CODE_CONTAINER_INPUT_NAME \u001b[39m=\u001b[39m \u001b[39m\"\u001b[39m\u001b[39mcode\u001b[39m\u001b[39m\"\u001b[39m\n\u001b[1;32m    568\u001b[0m \u001b[39mself\u001b[39m\u001b[39m.\u001b[39mcommand \u001b[39m=\u001b[39m command\n\u001b[0;32m--> 570\u001b[0m \u001b[39msuper\u001b[39;49m(ScriptProcessor, \u001b[39mself\u001b[39;49m)\u001b[39m.\u001b[39;49m\u001b[39m__init__\u001b[39;49m(\n\u001b[1;32m    571\u001b[0m     role\u001b[39m=\u001b[39;49mrole,\n\u001b[1;32m    572\u001b[0m     image_uri\u001b[39m=\u001b[39;49mimage_uri,\n\u001b[1;32m    573\u001b[0m     instance_count\u001b[39m=\u001b[39;49minstance_count,\n\u001b[1;32m    574\u001b[0m     instance_type\u001b[39m=\u001b[39;49minstance_type,\n\u001b[1;32m    575\u001b[0m     volume_size_in_gb\u001b[39m=\u001b[39;49mvolume_size_in_gb,\n\u001b[1;32m    576\u001b[0m     volume_kms_key\u001b[39m=\u001b[39;49mvolume_kms_key,\n\u001b[1;32m    577\u001b[0m     output_kms_key\u001b[39m=\u001b[39;49moutput_kms_key,\n\u001b[1;32m    578\u001b[0m     max_runtime_in_seconds\u001b[39m=\u001b[39;49mmax_runtime_in_seconds,\n\u001b[1;32m    579\u001b[0m     base_job_name\u001b[39m=\u001b[39;49mbase_job_name,\n\u001b[1;32m    580\u001b[0m     sagemaker_session\u001b[39m=\u001b[39;49msagemaker_session,\n\u001b[1;32m    581\u001b[0m     env\u001b[39m=\u001b[39;49menv,\n\u001b[1;32m    582\u001b[0m     tags\u001b[39m=\u001b[39;49mformat_tags(tags),\n\u001b[1;32m    583\u001b[0m     network_config\u001b[39m=\u001b[39;49mnetwork_config,\n\u001b[1;32m    584\u001b[0m )\n",
      "File \u001b[0;32m~/.cache/pypoetry/virtualenvs/quant-finance-2Mz7vLQz-py3.10/lib/python3.10/site-packages/sagemaker/processing.py:198\u001b[0m, in \u001b[0;36mProcessor.__init__\u001b[0;34m(self, role, image_uri, instance_count, instance_type, entrypoint, volume_size_in_gb, volume_kms_key, output_kms_key, max_runtime_in_seconds, base_job_name, sagemaker_session, env, tags, network_config)\u001b[0m\n\u001b[1;32m    190\u001b[0m \u001b[39mself\u001b[39m\u001b[39m.\u001b[39mrole \u001b[39m=\u001b[39m resolve_value_from_config(\n\u001b[1;32m    191\u001b[0m     role, PROCESSING_JOB_ROLE_ARN_PATH, sagemaker_session\u001b[39m=\u001b[39m\u001b[39mself\u001b[39m\u001b[39m.\u001b[39msagemaker_session\n\u001b[1;32m    192\u001b[0m )\n\u001b[1;32m    193\u001b[0m \u001b[39mif\u001b[39;00m \u001b[39mnot\u001b[39;00m \u001b[39mself\u001b[39m\u001b[39m.\u001b[39mrole:\n\u001b[1;32m    194\u001b[0m     \u001b[39m# Originally IAM role was a required parameter.\u001b[39;00m\n\u001b[1;32m    195\u001b[0m     \u001b[39m# Now we marked that as Optional because we can fetch it from SageMakerConfig\u001b[39;00m\n\u001b[1;32m    196\u001b[0m     \u001b[39m# Because of marking that parameter as optional, we should validate if it is None, even\u001b[39;00m\n\u001b[1;32m    197\u001b[0m     \u001b[39m# after fetching the config.\u001b[39;00m\n\u001b[0;32m--> 198\u001b[0m     \u001b[39mraise\u001b[39;00m \u001b[39mValueError\u001b[39;00m(\u001b[39m\"\u001b[39m\u001b[39mAn AWS IAM role is required to create a Processing job.\u001b[39m\u001b[39m\"\u001b[39m)\n\u001b[1;32m    200\u001b[0m \u001b[39mself\u001b[39m\u001b[39m.\u001b[39menv \u001b[39m=\u001b[39m resolve_value_from_config(\n\u001b[1;32m    201\u001b[0m     env, PROCESSING_JOB_ENVIRONMENT_PATH, sagemaker_session\u001b[39m=\u001b[39m\u001b[39mself\u001b[39m\u001b[39m.\u001b[39msagemaker_session\n\u001b[1;32m    202\u001b[0m )\n",
      "\u001b[0;31mValueError\u001b[0m: An AWS IAM role is required to create a Processing job."
     ]
    }
   ],
   "source": [
    "sagemaker_session = sagemaker.Session()\n",
    "role = sagemaker.get_execution_role()\n",
    "\n",
    "# Define the script processor\n",
    "script_processor = ScriptProcessor(\n",
    "    image_uri=\"382416733822.dkr.ecr.us-east-1.amazonaws.com/sagemaker-scikit-learn:0.23-1-cpu-py3\",\n",
    "    instance_count=1,\n",
    "    instance_type=\"ml.t3.medium\",\n",
    ")\n",
    "\n",
    "script_processor.run(code=\"forecast.py\")"
   ]
  },
  {
   "cell_type": "code",
   "execution_count": 7,
   "metadata": {},
   "outputs": [],
   "source": [
    "# Define the script processor\n",
    "script_processor = ScriptProcessor(\n",
    "    image_uri=\"382416733822.dkr.ecr.us-east-1.amazonaws.com/sagemaker-scikit-learn:0.23-1-cpu-py3\",  # Built-in SageMaker image URI\n",
    "    role=role,\n",
    "    instance_count=1,\n",
    "    instance_type=\"ml.t3.medium\",\n",
    ")\n",
    "\n",
    "script_processor.run(code=\"forecast.py\")"
   ]
  },
  {
   "cell_type": "code",
   "execution_count": null,
   "metadata": {},
   "outputs": [],
   "source": [
    "import sagemaker\n",
    "from sagemaker.processing import ScriptProcessor\n",
    "\n",
    "# Define SageMaker session and role\n",
    "sagemaker_session = sagemaker.Session()\n",
    "role = sagemaker.get_execution_role()\n",
    "\n",
    "# Define the script processor\n",
    "script_processor = ScriptProcessor(\n",
    "    image_uri=\"382416733822.dkr.ecr.us-east-1.amazonaws.com/sagemaker-scikit-learn:0.23-1-cpu-py3\",  # Built-in SageMaker image URI\n",
    "    role=role,\n",
    "    instance_count=1,\n",
    "    instance_type=\"ml.m5.large\",\n",
    ")\n",
    "\n",
    "# Run the processing job\n",
    "script_processor.run(code=\"forecast_covariances.py\")"
   ]
  },
  {
   "cell_type": "code",
   "execution_count": null,
   "metadata": {},
   "outputs": [],
   "source": [
    "# Parameters\n",
    "dates = pd.date_range(\"19900101\", \"20240401\", freq=\"MS\")\n",
    "L = 120\n",
    "\n",
    "# Load data\n",
    "df = utils.read_s3_file(\"clean/btm.csv\").set_index(\"date\")\n",
    "df.index = pd.to_datetime(df.index)\n",
    "\n",
    "# Forecast covariance matrices\n",
    "msfe_list = covariance.forecast_cov_matrices(df, dates, L)\n",
    "\n",
    "# # Combine results into a single DataFrame\n",
    "msfe_df = pd.concat(msfe_list)\n",
    "print(msfe_df)\n",
    "\n",
    "# # Print the mean of MSFE values\n",
    "print(msfe_df.mean())"
   ]
  },
  {
   "cell_type": "code",
   "execution_count": null,
   "metadata": {},
   "outputs": [],
   "source": [
    "file_keys = utils.list_s3_files(config.BUCKET_NAME, \"clean/\")\n",
    "file_keys = file_keys[2:]"
   ]
  },
  {
   "cell_type": "code",
   "execution_count": null,
   "metadata": {},
   "outputs": [],
   "source": [
    "for file_key in file_keys:\n",
    "    df = utils.read_s3_file(file_key).set_index(\"date\")\n",
    "    df.index = pd.to_datetime(df.index)\n",
    "    msfe_list = covariance.forecast_cov_matrices(df, config.DATES, config.L)\n",
    "    msfe_df = pd.concat(msfe_list)\n",
    "    print(f\"Mean MSFE for {file_key}: {msfe_df.mean()}\")\n",
    "    original_filename = file_key.split(\"/\")[-1]\n",
    "    new_filename = original_filename.replace(\".csv\", \"_forecast_error.csv\")\n",
    "    output_file_key = f\"output/{new_filename}\"\n",
    "    utils.write_s3_file(msfe_df, output_file_key)"
   ]
  }
 ],
 "metadata": {
  "kernelspec": {
   "display_name": "quant-finance-2Mz7vLQz-py3.10",
   "language": "python",
   "name": "python3"
  },
  "language_info": {
   "codemirror_mode": {
    "name": "ipython",
    "version": 3
   },
   "file_extension": ".py",
   "mimetype": "text/x-python",
   "name": "python",
   "nbconvert_exporter": "python",
   "pygments_lexer": "ipython3",
   "version": "3.10.14"
  }
 },
 "nbformat": 4,
 "nbformat_minor": 2
}
